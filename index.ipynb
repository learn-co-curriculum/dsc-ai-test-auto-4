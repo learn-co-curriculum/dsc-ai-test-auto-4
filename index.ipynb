{
 "cells": [
  {
   "cell_type": "code",
   "execution_count": null,
   "metadata": {},
   "outputs": [],
   "source": [
    "import requests\n",
    "import os\n",
    "from dotenv import load_dotenv\n",
    "load_dotenv()\n",
    "\n",
    "import markdown\n",
    "import markdown2\n",
    "import re \n",
    "\n",
    "from canvasapi import Canvas\n",
    "from canvas_to_git import *"
   ]
  },
  {
   "cell_type": "markdown",
   "metadata": {},
   "source": [
    "## 1. Connect to Canvas API\n",
    "\n",
    "\n",
    "Add Canvas credentials. \n",
    "\n",
    "* The API key should be stored in your `.env` file.\n",
    "* Change to the relevant Canvas instance as needed. "
   ]
  },
  {
   "cell_type": "code",
   "execution_count": null,
   "metadata": {},
   "outputs": [],
   "source": [
    "canvas_api_key = os.environ.get('CANVAS_TOKEN')\n",
    "canvas_instance = \"https://learning.flatironschool.com\""
   ]
  },
  {
   "cell_type": "markdown",
   "metadata": {},
   "source": [
    "Connect to Canvas API by creating a Canvas instance."
   ]
  },
  {
   "cell_type": "code",
   "execution_count": null,
   "metadata": {},
   "outputs": [],
   "source": [
    "canvas = Canvas(canvas_instance, canvas_api_key)"
   ]
  },
  {
   "cell_type": "markdown",
   "metadata": {},
   "source": [
    "## 2. Locate Course\n",
    "For all of the methods available for the Course class, see [the Course documentation](https://canvasapi.readthedocs.io/en/stable/course-ref.html#course)."
   ]
  },
  {
   "cell_type": "markdown",
   "metadata": {},
   "source": [
    "**To work with an existing course, input a course number.**"
   ]
  },
  {
   "cell_type": "code",
   "execution_count": null,
   "metadata": {},
   "outputs": [],
   "source": [
    "course_number = 6996"
   ]
  },
  {
   "cell_type": "code",
   "execution_count": null,
   "metadata": {},
   "outputs": [],
   "source": [
    "course = canvas.get_course(course_number)\n",
    "print(course.name)"
   ]
  },
  {
   "cell_type": "markdown",
   "metadata": {},
   "source": [
    "## 3. Extract Content\n",
    "\n",
    "First get the course pages from Canvas."
   ]
  },
  {
   "cell_type": "code",
   "execution_count": null,
   "metadata": {},
   "outputs": [],
   "source": [
    "content = course.get_pages()"
   ]
  },
  {
   "cell_type": "markdown",
   "metadata": {},
   "source": [
    "Next, use lists to gather the relevant page IDs, page contents, titles, and URLs."
   ]
  },
  {
   "cell_type": "code",
   "execution_count": null,
   "metadata": {},
   "outputs": [],
   "source": [
    "titles = []\n",
    "page_ids = []\n",
    "urls = []\n",
    "contents = []\n",
    "\n",
    "for page in content:\n",
    "    pid = page.page_id\n",
    "    page_ids += [pid]\n",
    "    p = course.get_page(pid)\n",
    "    titles += [p.title]\n",
    "    urls += [p.url]\n",
    "    contents += [p.body]"
   ]
  },
  {
   "cell_type": "markdown",
   "metadata": {},
   "source": [
    "Then, extract the titles of lessons and labs only, ignoring any housekeeping/admin pages."
   ]
  },
  {
   "cell_type": "code",
   "execution_count": null,
   "metadata": {},
   "outputs": [],
   "source": [
    "# sanity check\n",
    "titles"
   ]
  },
  {
   "cell_type": "code",
   "execution_count": null,
   "metadata": {},
   "outputs": [],
   "source": [
    "zipped_content = list(zip(titles, page_ids, urls, contents))\n",
    "\n",
    "# I am using list comprehension here to filter my titles\n",
    "# but you may want to use another method, or manually generate a list\n",
    "adj_titles = [title for title in zipped_content \n",
    "                if title[0].startswith('📚 Reading:')\n",
    "                 or title[0].startswith('🔎 Lab:')]"
   ]
  },
  {
   "cell_type": "code",
   "execution_count": null,
   "metadata": {},
   "outputs": [],
   "source": [
    "# sanity check to see what the tuple looks like\n",
    "adj_titles[0]"
   ]
  },
  {
   "cell_type": "markdown",
   "metadata": {},
   "source": [
    "## 4. Mirror Canvas Lessons to GitHub"
   ]
  },
  {
   "cell_type": "markdown",
   "metadata": {},
   "source": [
    "Run the cell below to create the repo for the first time. \n",
    "\n",
    "**Change this cell to your course prefix"
   ]
  },
  {
   "cell_type": "code",
   "execution_count": null,
   "metadata": {},
   "outputs": [],
   "source": [
    "prefix = None # 'ai-course-XXXX...-'\n",
    "org_name = 'learn-co-curriculum'"
   ]
  },
  {
   "cell_type": "code",
   "execution_count": null,
   "metadata": {},
   "outputs": [],
   "source": [
    "for title in adj_titles:\n",
    "    repository_name = f'{prefix}{title[2]}'\n",
    "    organization_name = org_name\n",
    "    print(repository_name)\n",
    "    \n",
    "    # comment out the line below after repos have already been created\n",
    "    create_github_repository(repository_name, organization_name)\n",
    "    \n",
    "    # create/update README\n",
    "    content = title[3]\n",
    "    file_path = 'README.md'\n",
    "    file_title = title[0]\n",
    "    file_content = f'# {file_title}\\n\\n{content}'  # Updated content of the file\n",
    "    commit_message = 'Update file'  # Commit message for the file operation\n",
    "    create_or_update_file(repository_name, organization_name, file_path, file_content, commit_message)"
   ]
  }
 ],
 "metadata": {
  "kernelspec": {
   "display_name": "Python 3.11.1 (spacy)",
   "language": "python",
   "name": "venv_spacy"
  },
  "language_info": {
   "codemirror_mode": {
    "name": "ipython",
    "version": 3
   },
   "file_extension": ".py",
   "mimetype": "text/x-python",
   "name": "python",
   "nbconvert_exporter": "python",
   "pygments_lexer": "ipython3",
   "version": "3.11.1"
  }
 },
 "nbformat": 4,
 "nbformat_minor": 4
}
