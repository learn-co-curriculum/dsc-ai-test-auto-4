{
 "cells": [
  {
   "cell_type": "code",
   "execution_count": 1,
   "metadata": {},
   "outputs": [],
   "source": [
    "import requests\n",
    "import os\n",
    "from dotenv import load_dotenv\n",
    "load_dotenv()\n",
    "\n",
    "import markdown\n",
    "import markdown2\n",
    "import re \n",
    "\n",
    "from canvasapi import Canvas\n",
    "\n",
    "from git_canvas import *"
   ]
  },
  {
   "cell_type": "markdown",
   "metadata": {},
   "source": [
    "## 1. Get the lesson from GitHub\n",
    "Change the cell below to your repo link."
   ]
  },
  {
   "cell_type": "code",
   "execution_count": 2,
   "metadata": {},
   "outputs": [],
   "source": [
    "# repo_link = \"https://github.com/learn-co-curriculum/dsc-v3-tableau-visualization-basics\""
   ]
  },
  {
   "cell_type": "code",
   "execution_count": 3,
   "metadata": {},
   "outputs": [],
   "source": [
    "# github_username, github_repo = extract_github_details(repo_link)\n",
    "# github_readme_url = f\"https://raw.githubusercontent.com/{github_username}/{github_repo}/master/README.md\"\n",
    "# github_readme_response = requests.get(github_readme_url)\n",
    "# github_readme_content = github_readme_response.text"
   ]
  },
  {
   "cell_type": "code",
   "execution_count": 4,
   "metadata": {},
   "outputs": [],
   "source": [
    "# # github_readme_content\n",
    "\n",
    "# html_content = markdown.markdown(github_readme_content, extensions=['fenced_code', 'codehilite'])"
   ]
  },
  {
   "cell_type": "markdown",
   "metadata": {},
   "source": [
    "Uncomment to see the contents retrieved."
   ]
  },
  {
   "cell_type": "code",
   "execution_count": 5,
   "metadata": {},
   "outputs": [],
   "source": [
    "# # print(html_content)\n",
    "# pattern = re.compile(\"(?s)<h1>.+?</h1>\")\n",
    "# result = re.findall(\"(?s)<h1>.+?</h1>\", html_content)[0]\n",
    "# result = result.replace(\"<h1>\", \"\").replace(\"</h1>\", \"\")\n",
    "# print(result)"
   ]
  },
  {
   "cell_type": "markdown",
   "metadata": {},
   "source": [
    "## 2. Connect to Canvas API\n",
    "\n",
    "\n",
    "Add Canvas credentials. \n",
    "\n",
    "* The API key should be stored in your `.env` file.\n",
    "* Change to the relevant Canvas instance as needed. "
   ]
  },
  {
   "cell_type": "code",
   "execution_count": 6,
   "metadata": {},
   "outputs": [],
   "source": [
    "canvas_api_key = os.environ.get('CANVAS_TOKEN')\n",
    "canvas_instance = \"https://learning.flatironschool.com\""
   ]
  },
  {
   "cell_type": "markdown",
   "metadata": {},
   "source": [
    "Connect to Canvas API by creating a Canvas instance."
   ]
  },
  {
   "cell_type": "code",
   "execution_count": 7,
   "metadata": {},
   "outputs": [],
   "source": [
    "canvas = Canvas(canvas_instance, canvas_api_key)"
   ]
  },
  {
   "cell_type": "markdown",
   "metadata": {},
   "source": [
    "## 3. Courses\n",
    "For all of the methods available for the Course class, see [the Course documentation](https://canvasapi.readthedocs.io/en/stable/course-ref.html#course)."
   ]
  },
  {
   "cell_type": "markdown",
   "metadata": {},
   "source": [
    "**To work with an existing course, input a course number.**"
   ]
  },
  {
   "cell_type": "code",
   "execution_count": 8,
   "metadata": {},
   "outputs": [],
   "source": [
    "course_number = 6996"
   ]
  },
  {
   "cell_type": "code",
   "execution_count": 9,
   "metadata": {},
   "outputs": [
    {
     "name": "stdout",
     "output_type": "stream",
     "text": [
      "BP: AI Course - AI & Cybersecurity\n"
     ]
    }
   ],
   "source": [
    "course = canvas.get_course(course_number)\n",
    "print(course.name)"
   ]
  },
  {
   "cell_type": "markdown",
   "metadata": {},
   "source": [
    "### Add Content\n",
    "For all the different kinds of content that can be added, see [this].(https://canvasapi.readthedocs.io/en/stable/examples.html#assignments)\n",
    "\n",
    "Use the syntax below and sub out `.create_page()` for whichever other method you want to use."
   ]
  },
  {
   "cell_type": "code",
   "execution_count": 10,
   "metadata": {},
   "outputs": [],
   "source": [
    "content = course.get_pages()"
   ]
  },
  {
   "cell_type": "code",
   "execution_count": 11,
   "metadata": {},
   "outputs": [],
   "source": [
    "titles = []\n",
    "urls = []\n",
    "contents = []\n",
    "\n",
    "for page in content:\n",
    "    pid = page.page_id\n",
    "    p = course.get_page(pid)\n",
    "    titles += [p.title]\n",
    "    urls += [p.url]\n",
    "    contents += [p.body]"
   ]
  },
  {
   "cell_type": "code",
   "execution_count": 12,
   "metadata": {},
   "outputs": [
    {
     "data": {
      "text/plain": [
       "'<p><em>Select the tabs to navigate through the content.</em></p>\\n<div style=\"margin: 1em 0%; padding: 10px 15px; border: 2px solid #A2AAAD; background: #ffffff; font-size: 100%; overflow: auto;\">\\n<div class=\"enhanceable_content tabs\">\\n<ul>\\n<li><a href=\"#fragment-1\">Introduction</a></li>\\n<li><a href=\"#fragment-2\">How do Threat Actors Misuse AI/ML</a></li>\\n<li><a href=\"#fragment-3\">Summary</a></li>\\n<li><a href=\"#fragment-4\">Check For Understanding</a></li>\\n</ul>\\n<div id=\"fragment-1\" style=\"overflow: auto:;\">\\n<h3>Introduction</h3>\\n<p>In recent years, threat actors have recognized the immense potential of artificial intelligence (AI) and machine learning (ML) in their malicious activities. They have swiftly adapted to these technologies, leveraging them to enhance their attack capabilities and stay one step ahead of traditional security measures. This emerging trend poses a significant challenge for organizations and security professionals who must understand how threat actors employ AI/ML to develop effective countermeasures.</p>\\n<p>By harnessing the power of AI and ML, threat actors can automate and optimize their attack strategies, making their campaigns more sophisticated and evasive. Adversarial attacks, for instance, enable them to manipulate AI algorithms, bypass security measures, and deceive AI-based systems, compromising their reliability and effectiveness. Additionally, attackers can leverage ML algorithms to automatically generate variants of malware that can evade traditional signature-based detection methods, increasing the difficulty of identifying and mitigating threats.</p>\\n<p>Understanding AI/ML and how threat actors exploit these technologies is paramount for developing robust countermeasures. Security professionals need to stay updated on the latest advancements and techniques employed by malicious actors. This knowledge empowers them to detect and mitigate emerging threats effectively, ensuring the security and integrity of their systems and data. Moreover, organizations must invest in research and development to build AI-driven defense mechanisms capable of combating the evolving threat landscape.&nbsp;</p>\\n<p>In this lesson, we identify some common attacker behaviors and patterns, that security teams can leverage AI/ML to proactively identify anomalies, detect sophisticated attacks, and respond swiftly to mitigate potential risks.</p>\\n<h4>Lesson Objectives</h4>\\n<p>By the end of this lesson you will be able to&nbsp;</p>\\n<ul>\\n<li>List reading/lesson objectives&nbsp;</li>\\n</ul>\\n</div>\\n<div id=\"fragment-2\" style=\"overflow: auto:;\">\\n<h3>How do Threat Actors Misuse AI/ML</h3>\\n<p>As artificial intelligence (AI) and machine learning (ML) systems become more powerful, it is important to be aware of the potential for malicious use. &nbsp;Organizations need to take steps to secure their AI and ML systems and to protect themselves from attack.</p>\\n<p>These are some of the ways that AI and ML can be misused by threat actors.</p>\\n<h4>1. Adversarial Attacks</h4>\\n<ul>\\n<li>Threat actors can use AI to launch adversarial attacks against AI systems. &nbsp;By manipulating or deceiving AI algorithms, attackers can bypass security measures, generate false positives or negatives, or evade detection.</li>\\n<li>Adversarial attacks aim to exploit vulnerabilities in AI models and undermine the reliability and effectiveness of AI-based threat detection systems.</li>\\n</ul>\\n<h4>2. Evasion of Security Measures</h4>\\n<ul>\\n<li>AI and ML can be used to analyze and understand the inner workings of security systems, enabling threat actors to develop sophisticated evasion techniques.</li>\\n<li>By leveraging ML algorithms, attackers can automatically generate variants of malware that can evade traditional signature-based detection methods, making it more difficult for security solutions to identify and mitigate threats.</li>\\n</ul>\\n<h4>3. Automated Exploitation&nbsp;</h4>\\n<ul>\\n<li>Threat actors can leverage AI and ML to automate and enhance their attack capabilities.&nbsp;</li>\\n<li>Machine learning algorithms can be trained to identify vulnerabilities in systems, networks, or applications, making it easier for attackers to exploit these weaknesses at scale. &nbsp;</li>\\n<li>Automated attacks powered by AI can launch targeted and persistent campaigns against vulnerable targets, increasing the efficiency and impact of cyber attacks.</li>\\n</ul>\\n<h4>4. Social Engineering and Phishing Attacks</h4>\\n<ul>\\n<li>AI techniques can be utilized to enhance social engineering and phishing attacks.</li>\\n<li>Attackers can leverage machine learning algorithms to analyze large amounts of data to create highly personalized and convincing phishing emails, messages, or voice calls. &nbsp;</li>\\n<li>By leveraging AI, threat actors can craft messages that are more likely to deceive recipients, increasing the success rate of their phishing campaigns.</li>\\n</ul>\\n<h4>5. Data Poisoning and Manipulation</h4>\\n<ul>\\n<li>AI models rely on data for training and decision-making. &nbsp;</li>\\n<li>Threat actors can exploit this vulnerability by poisoning or manipulating training data to introduce biases or make the AI models produce erroneous results.</li>\\n<li>By strategically injecting malicious data during the training phase, attackers can deceive AI systems, leading to incorrect decisions or actions taken by the systems.</li>\\n</ul>\\n<h4>6. Automated Reconnaissance</h4>\\n<ul>\\n<li>AI can be utilized for automated reconnaissance and information gathering. &nbsp;</li>\\n<li>Threat actors can employ ML algorithms to analyze vast amounts of publicly available data, social media profiles, or network traffic patterns to identify potential targets, vulnerabilities, or weak points in a target organization\\'s security posture. &nbsp;This information can then be used to plan and execute targeted attacks.</li>\\n</ul>\\n<h4>7. Weaponized AI</h4>\\n<ul>\\n<li>Advanced AI techniques can be used to develop sophisticated and autonomous cyber weapons. &nbsp;These AI-driven weapons can adapt, evolve, and learn from their environment to optimize their attack strategies. &nbsp;</li>\\n<li>AI-powered cyber weapons can pose significant threats by conducting large-scale attacks, exploiting vulnerabilities, or evading traditional defenses.</li>\\n</ul>\\n</div>\\n<div id=\"fragment-3\" style=\"overflow: auto:;\">\\n<h3>Summary</h3>\\n<p>In this lesson, we introduced the topic AI/ML systems for malicious activities. We identified numerous ways that cyber criminals can use AI to enhance their ability to evade detection. While the availability of exploits is vast, there are a number of counter measures that you can take to protect yourself and your organization from cyber attacks that we will review in the upcoming lesson.</p>\\n<p>It is essential for cybersecurity professionals to engage in continuous learning and collaboration to share insights, exchange best practices, and collectively develop strategies to combat AI-enhanced cyber threats. By fostering a comprehensive understanding of AI/ML and threat actor tactics, we can build a resilient cybersecurity ecosystem that safeguards our digital assets and protects against emerging threats in the ever-evolving landscape of cybercrime.</p>\\n</div>\\n<div id=\"fragment-4\" style=\"overflow: auto:;\">\\n<h3>Check For Understanding</h3>\\n<p>In this section you will be able to quiz yourself on the key takeaways from the readings. These questions will help prepare you for the other assessments in the module.&nbsp;</p>\\n<p><em>Select the question to view the answer.</em></p>\\n<details>\\n<summary style=\"padding: 15px; font-size: 150%; border: 2px solid #A2AAAD;\"><strong>True or False:</strong> Adversarial attacks aim to strengthen the reliability and effectiveness of AI-based threat detection systems.</summary>\\n<p style=\"margin-left: 10px;\"><strong>False</strong>, adversarial attacks aim to exploit vulnerabilities in AI models and undermine the reliability and effectiveness of AI-based threat detection systems.</p>\\n</details><details>\\n<summary style=\"padding: 15px; font-size: 150%; border: 2px solid #A2AAAD;\"><strong>True or False:</strong> By leveraging machine learning algorithms, attackers can automatically generate variants of malware that can evade traditional signature-based detection methods.</summary>\\n<p style=\"margin-left: 10px;\"><strong>True</strong>, machine learning algorithms can be trained to identify vulnerabilities in systems, networks, or applications, making it easier for attackers to exploit these weaknesses at scale.</p>\\n</details><details>\\n<summary style=\"padding: 15px; font-size: 150%; border: 2px solid #A2AAAD;\"><strong>True or False:</strong>Threat actors can utilize AI techniques to enhance social engineering and phishing attacks, increasing the success rate of their campaigns.</summary>\\n<p style=\"margin-left: 10px;\"><strong>True</strong>, AI techniques can be utilized to enhance social engineering and phishing attacks.&nbsp;</p>\\n</details></div>\\n</div>\\n</div>'"
      ]
     },
     "execution_count": 12,
     "metadata": {},
     "output_type": "execute_result"
    }
   ],
   "source": [
    "contents[0]"
   ]
  },
  {
   "cell_type": "code",
   "execution_count": 15,
   "metadata": {},
   "outputs": [],
   "source": [
    "soup = contents[5]"
   ]
  },
  {
   "cell_type": "code",
   "execution_count": 18,
   "metadata": {},
   "outputs": [],
   "source": [
    "from bs4 import BeautifulSoup\n",
    "from markdownify import markdownify\n",
    "\n",
    "def html_to_markdown(html_string):\n",
    "    # Parse the HTML using Beautiful Soup\n",
    "    soup = BeautifulSoup(html_string, 'html.parser')\n",
    "\n",
    "    # Extract the text content from the parsed HTML\n",
    "    text_content = soup.get_text()\n",
    "\n",
    "#     # Convert the text content to GitHub-flavored Markdown\n",
    "    markdown_string = markdownify(text_content)\n",
    "\n",
    "    return markdown_string\n",
    "\n",
    "markdown_strings = []\n",
    "text_contents = []\n",
    "soup_contents = []\n",
    "\n",
    "for content in contents:\n",
    "    soup = content\n",
    "    soup_contents += [BeautifulSoup(content, 'html.parser')]\n",
    "    markdown_string = html_to_markdown(content)\n",
    "    markdown_strings += [markdown_string]"
   ]
  },
  {
   "cell_type": "code",
   "execution_count": 37,
   "metadata": {},
   "outputs": [
    {
     "data": {
      "text/plain": [
       "'🔎 Lab: 2.4 HAM or PHISH? - NLP for Email Filtering '"
      ]
     },
     "execution_count": 37,
     "metadata": {},
     "output_type": "execute_result"
    }
   ],
   "source": [
    "titles[5]"
   ]
  },
  {
   "cell_type": "code",
   "execution_count": 24,
   "metadata": {},
   "outputs": [
    {
     "data": {
      "text/plain": [
       "'<p><em>Select the tabs to navigate through the content.</em></p>\\n<div style=\"margin: 1em 0%; padding: 10px 15px; border: 2px solid #A2AAAD; background: #ffffff; font-size: 100%; overflow: auto;\">\\n<div class=\"enhanceable_content tabs\">\\n<ul>\\n<li><a href=\"#fragment-1\">Introduction</a></li>\\n<li><a href=\"#fragment-2\">Email Filtering</a></li>\\n<li><a href=\"#fragment-3\">Rule Based Algorithms</a></li>\\n<li><a href=\"#fragment-4\">Machine Based Algorithms</a></li>\\n<li><a href=\"#fragment-5\">Modern Email Filters</a></li>\\n<li><a href=\"#fragment-6\">What is Pseudo-Code?</a></li>\\n<li><a href=\"#fragment-7\">Email Classification Script</a></li>\\n<li><a href=\"#fragment-8\">Procedure</a></li>\\n<li><a href=\"#fragment-9\">Summary</a></li>\\n</ul>\\n<div id=\"fragment-1\" style=\"overflow: auto:;\">\\n<h3>Introduction</h3>\\n<p>Spam emails, which are unsolicited and often bulk messages sent to a large number of recipients, started becoming a problem in the late 1990s. These emails typically contained advertisements, scams, or other forms of unwanted content. Over time, spam became a widespread issue, leading to the development of spam filters and anti-spam measures.</p>\\n<p>Phishing attacks, on the other hand, began to emerge in the early 2000s. Phishing refers to a type of cyber attack where malicious actors impersonate trustworthy entities or organizations to deceive recipients into disclosing sensitive information, such as passwords, credit card details, or personal data. Phishing emails are designed to appear legitimate and often employ social engineering techniques to trick recipients into taking action that benefits the attackers.</p>\\n<p>Phishing attacks became increasingly prevalent with the rise of online banking, e-commerce, and other online services that require users to provide sensitive information. Attackers realized that by impersonating trusted entities, they could gain access to valuable data or exploit users for financial gain.</p>\\n<p>While spam and phishing are distinct concepts, they are often intertwined. Let’s compare the two:</p>\\n<ul>\\n<li>Phishing attacks may be delivered through spam emails, leveraging the large volume and distribution capabilities of spam campaigns to reach a broader audience.</li>\\n<li>However, not all spam emails are phishing attempts, as spam can also include other types of unwanted or irrelevant content.</li>\\n<li>Since their emergence, both spam and phishing have continued to evolve and adapt to technological advancements and countermeasures.</li>\\n<li>Organizations and individuals employ various strategies, such as email filters, user awareness training, and security measures, to combat both spam and phishing and protect against their threats.</li>\\n</ul>\\n<p>In this exercise, you will use your knowledge of language patterns used by malicious actors and natural language processing techniques that were introduced in previous lessons to classify emails as HAM (legitimate emails) or PHISH (malicious emails). Creating labeled datasets such as these allows us to train models that can classify millions of emails, using the patterns extracted from just a small subset of known malicious emails.</p>\\n<h4>Lesson Objectives</h4>\\n<p>By the end of this lesson, you will be able to&nbsp;</p>\\n<ul>\\n<li>Distinguish between rule-based and machine learning algorithms</li>\\n<li>Identify rules to classify suspicious emails</li>\\n<li>Determine the steps to build an email classifier</li>\\n</ul>\\n</div>\\n<div id=\"fragment-2\" style=\"overflow: auto:;\">\\n<h3>Email Filtering</h3>\\n<p>Email filtering is a process in which incoming and outgoing emails are analyzed and categorized based on predefined criteria or rules. The purpose of email filtering is to identify and handle emails based on their content, sender, recipient, or other attributes. Filtering can be performed by email servers, email clients, or dedicated email security systems.</p>\\n<p>In practice, email filtering systems often employ a combination of rule-based and machine learning techniques. Rule-based filters may be used as an initial line of defense to quickly identify and block obvious spam or phishing attempts based on known patterns. Machine learning models can then be employed to further analyze and classify emails based on more complex features and evolving patterns.</p>\\n<p>In this lesson, we will discuss rule-based and machine learning techniques for email detection. Then, you will practice classifying emails as HAM or PHISH based on your knowledge of phishing email analysis techniques from the previous lesson. Through this exercise, you will learn all the necessary steps for building an email classifier.</p>\\n</div>\\n<div id=\"fragment-3\" style=\"overflow: auto:;\">\\n<h3>Rule-Based Algorithms</h3>\\n<p>Early email filters utilized user-defined rule-based approaches. Users could set up filters based on specific keywords, email addresses, or other patterns to sort incoming emails into different folders or mark them as spam. These filters relied on manually created rules and lacked sophistication but provided some level of control over unwanted emails.</p>\\n<p>Rule-based email filtering algorithms rely on predefined sets of rules and conditions to filter emails. These rules are typically created based on known patterns, keywords, or characteristics associated with spam or phishing emails. The filter applies these rules to incoming emails and flags or categorizes them accordingly.</p>\\n<p>To combat spam, blacklists, and whitelists were introduced. Blacklists contained known spam sources or email addresses, and emails from these sources were blocked or flagged as spam. Conversely, whitelists allowed users to specify trusted email addresses, ensuring that emails from those sources would always be delivered to the inbox.</p>\\n</div>\\n<div id=\"fragment-4\" style=\"overflow: auto:;\">\\n<h3>Machine Learning Algorithms</h3>\\n<p>In the early 2000s, Bayesian filtering emerged as a more advanced technique. Bayesian filters used statistical algorithms to analyze the textual content of emails and determine the probability of an email being spam based on learned patterns from a training dataset. This approach improved spam detection accuracy by considering the frequency and co-occurrence of words and phrases.</p>\\n<p>Machine learning approaches for email filtering involve training models on labeled datasets to automatically learn patterns and features indicative of spam or phishing emails. These models can leverage various algorithms, such as decision trees, Naive Bayes, support vector machines (SVM), or more advanced techniques like deep learning with neural networks. The models extract relevant features from email content, metadata, and other contextual information to make predictions about the email\\'s category.</p>\\n<p>The training process involves providing the model with a dataset of labeled emails, where each email is labeled as spam (emails that are a nuisance), ham (emails that are legitimate), or phish (emails that are malicious). The model learns the patterns and relationships in the data and generalizes them to make predictions on new, unseen emails. Machine learning-based filters have the advantage of adaptability and can learn from evolving spam or phishing tactics. They can improve their accuracy over time as they encounter more examples and update their models.</p>\\n<p>By combining rule-based algorithms and machine learning techniques, email filters aim to provide a robust and effective solution for detecting and filtering spam and phishing emails, enhancing email security, and reducing the risk to end-users.</p>\\n</div>\\n<div id=\"fragment-5\" style=\"overflow: auto:;\">\\n<h3>Modern Email Filters</h3>\\n<p>Modern email filters also employ behavioral analysis and heuristics to detect spam, phishing, and other email-based threats. These filters analyze patterns, sender reputation, email headers, and other contextual information to identify suspicious activities, such as large-scale email campaigns or attempts to deceive users. Heuristics-based filters make use of predefined rules and algorithms to evaluate email content and determine its likelihood of being spam or malicious.</p>\\n<p>Today, effective email filtering systems often combine multiple techniques and approaches. They employ a combination of rule-based filtering, machine learning algorithms, blacklists, whitelists, behavioral analysis, and authentication mechanisms. This integration allows for more accurate and comprehensive detection of spam, phishing attempts, malware, and other email threats.</p>\\n</div>\\n<div id=\"fragment-6\" style=\"overflow: auto:;\">\\n<h3>What is Pseudo-Code?</h3>\\n<p>In this exercise, you will be tasked with writing a script in pseudo-code that will classify emails as HAM, SPAM, or PHISH. If you are unfamiliar with programming, this might seem like an intimidating task, but the beauty of writing in pseudo-code is that it allows you to articulate the rules that the program should execute in an approachable way.</p>\\n<p>Pseudo-code is a simplified and human-readable notation that represents the steps and logic of a computer program or algorithm. It uses a combination of plain English language and programming-like constructs to outline the sequence of operations, decision-making processes, loops, and other control structures involved in the program.</p>\\n<p>Here is a simplified example of a pseudo-code for dispensing a soda from a vending machine:</p>\\n<p style=\"padding-left: 40px;\"><code><strong>While</strong> <span style=\"color: #3598db;\"><strong style=\"color: #065387;\">Coin?</strong></span> <strong>=</strong> “Yes” <strong>then</strong> <span style=\"color: #e67e23;\"><strong style=\"color: #764016;\">Action?</strong></span> = \"Dispense Soda\"</code></p>\\n<p style=\"padding-left: 40px;\"><code><strong>Else:</strong> \"Pass\"</code></p>\\n<em><span style=\"font-size: 100%; color: var(--ic-brand-font-color-dark); font-family: inherit;\">In English, we would interpret this as \"When a coin is present in the machine, dispense a soda. Otherwise, do nothing.\"</span></em>\\n<p><span style=\"font-size: 100%; color: var(--ic-brand-font-color-dark); font-family: inherit;\">Pseudocode is not meant to be executed by a computer; instead, it serves as a blueprint for programmers to design and communicate their algorithms. There are no hard and fast rules about the conventions that you use to convey your idea, as long as it is clear to the reader. It is simply a way to help programmers think through the problem-solving process and plan their code implementation before writing the actual code in a specific programming language.</span></p>\\n</div>\\n<div id=\"fragment-7\" style=\"overflow: auto:;\">\\n<h3>Email Classification Script</h3>\\n<p>To keep our example simple, we are going to look for three specific types of flags in email text that suggest phishing. Keep in mind that in a professional context, email classification uses a more complex combination of rule-based and machine learning algorithms.</p>\\n<p style=\"padding-left: 40px;\"><strong>Flag 1 - Potential Phishing Emails</strong><br>Are there keywords or phrases like “urgent”, “important”, or “click here”?<br>Does the email contain terms like “Forgot Password?”</p>\\n<p style=\"padding-left: 40px;\"><strong>Flag 2 - Identifying Suspicious Entities/Links</strong><br>Are any of the links in the email URLs for banks or credit card companies?&nbsp;<br>Is the name of banks or similar organizations mentioned in the text?</p>\\n<p style=\"padding-left: 40px;\"><strong>Flag 3 - Typos and Grammatical Errors</strong><br>Are there obvious misspellings and mistakes in the text?</p>\\n<p>In addition, there are rules about the sequence of events that occur.</p>\\n<ol style=\"list-style-type: decimal;\">\\n<li>New emails should be quarantined and checked before they are moved to the inbox.</li>\\n<li>The text should be preprocessed before using techniques like sentiment analysis or NER.</li>\\n</ol>\\n<p>With these rules in mind,&nbsp; you will order the pseudo-code lines in the exercise below so that they are in the correct order to classify the emails using the rules described here and your knowledge of NLP, cyber security, and email filtering.&nbsp;</p>\\n</div>\\n<ol style=\"list-style-type: upper-alpha;\">\\n<li id=\"fragment-8\">\\n<h3>Procedure</h3>\\n<p>Work through each of the parts below and order the steps of the email filtering process for each part.</p>\\n<h4>Part 1 - Preprocess Text</h4>\\n<p><strong>Task:</strong> Preprocess the text and output a tokenized version that will be represented by the variable <code>TOKEN_TEXT</code>.</p>\\n<p><em><strong>Order each of the steps (A-E) in the correct order to accomplish the task.</strong></em></p>\\n<ol style=\"list-style-type: upper-alpha;\">\\n<li><code>If COUNT(QUARANTINE) &gt; 0 then CHECK_EMAIL = YES</code></li>\\n<li><code>For each EMAIL in QUARANTINE apply CHECK_EMAIL(EMAIL). If CHECK_EMAIL(EMAIL) then EMAIL_TEXT = EXTRACT_TEXT(EMAIL)</code></li>\\n<li><code>While EMAIL = NEW, move EMAIL to QUARANTINE</code></li>\\n<li><code>TOKEN_TEXT = YES</code></li>\\n<li><code>If EMAIL_TEXT = YES then TOKEN_TEXT = TOKENIZE(EMAIL_TEXT)</code>&nbsp;</li>\\n</ol>\\n<details style=\"margin-bottom: 2.5rem;\">\\n<summary style=\"display: inline-block; background: #394a58; border: 1px solid #8A8B99; padding: 0.5rem 0.75rem; cursor: pointer;\"><span style=\"color: #ffffff;\">Select for Part 1 </span></summary>\\n<ol style=\"list-style-type: decimal;\">\\n<li><code>While EMAIL = NEW, move EMAIL to QUARANTINE</code></li>\\n<li><code>If COUNT(QUARANTINE) &gt; 0, CHECK_EMAIL = YES</code></li>\\n<li><code>For each EMAIL in QUARANTINE apply CHECK_EMAIL(EMAIL). If CHECK_EMAIL(EMAIL) then EMAIL_TEXT = EXTRACT_TEXT(EMAIL)</code></li>\\n<li><code>If EMAIL_TEXT = YES then TOKEN_TEXT = TOKENIZE(EMAIL_TEXT)</code></li>\\n<li><code>TOKEN_TEXT = YES</code></li>\\n</ol>\\n</details>\\n<h4>Part 2 - NER for Suspicious Entities and Links</h4>\\n<p><strong>Task:</strong> Label each preprocessed email as <code>SUSPICIOUS_ENT = YES</code> or <code>SUSPICIOUS_LINK = YES</code> based on the rules that we articulated above for <strong>Flag 2: <em>Are any of the links in the email URLs for banks or credit card companies? Is the name of banks or similar organizations mentioned in the text?</em></strong></p>\\n<p><em><strong>Order each of the steps (A-E) in the correct order to accomplish the task.</strong></em></p>\\n<ol style=\"list-style-type: upper-alpha;\">\\n<li><code>If ANY(TOKEN in TOKEN_TEXT) starts with ANY(“Bank of”) or ends with ANY(“Bank”, “Credit Union”) then SUSPICIOUS ENT = YES</code></li>\\n<li><code>If TOKEN_TEXT = YES then NER(TOKEN_TEXT)</code></li>\\n<li><code>If ANY(TOKEN in TOKEN_TEXT) = URL, CHECK_PATTERNS(URL)</code></li>\\n<li><code>If NER(TOKEN_TEXT) then CHECK_PATTERNS(TOKEN_TEXT)</code></li>\\n<li><code>If ANY(TOKEN in URL) starts with ANY(“Bank of”) or ends with ANY(“Bank”, “Credit Union”) then SUSPICIOUS LINK = YES</code></li>\\n</ol>\\n<details style=\"margin-bottom: 2.5rem;\">\\n<summary style=\"display: inline-block; background: #394a58; border: 1px solid #8A8B99; padding: 0.5rem 0.75rem; cursor: pointer;\"><span style=\"color: #ffffff;\">Select for Part 2 </span></summary>\\n<ol style=\"list-style-type: decimal;\">\\n<li><code>If TOKEN_TEXT = YES then NER(TOKEN_TEXT)</code></li>\\n<li><code>If NER(TOKEN_TEXT) then CHECK_PATTERNS(TOKEN_TEXT)</code></li>\\n<li><code>If ANY(TOKEN in TOKEN_TEXT) starts with ANY(“Bank of”) or ends with ANY(“Bank”, “Credit Union”) then SUSPICIOUS ENT = YES</code></li>\\n<li><code>If ANY(TOKEN in TOKEN_TEXT) = URL, CHECK_PATTERNS(URL)</code></li>\\n<li><code>If ANY(TOKEN in URL) starts with ANY(“Bank of”) or ends with ANY(“Bank”, “Credit Union”) then SUSPICIOUS LINK = YES</code></li>\\n</ol>\\n</details>\\n<h4>Part 3 - Sentiment Analysis for Suspicious Messages</h4>\\n<p><strong>Task: </strong>Assume for this part we are using a pre-trained sentiment analyzer, but we want to add special weights for the terms <strong>“URGENT” (-0.5)</strong> and <strong style=\"font-size: 100%; color: var(--ic-brand-font-color-dark); font-family: inherit;\">“CLICK HERE” (-0.5).</strong></p>\\n<p><strong style=\"font-size: 100%; color: var(--ic-brand-font-color-dark); font-family: inherit;\"><em><strong>Order each of the steps (A-C) in the correct order to accomplish the task.</strong></em></strong></p>\\n<ol style=\"list-style-type: upper-alpha;\">\\n<li><code>If ANY(TOKEN in TOKEN_TEXT) = “URGENT” or “CLICK HERE” then ADJUSTED_SENTIMENT = SENTIMENT - 0.5</code></li>\\n<li><code>If TOKEN_TEXT = YES then ANALYZE_SENTIMENT(TOKEN_TEXT)</code></li>\\n<li><code>If ANALYZE_SENTIMENT(TOKEN_TEXT) then CHECK_TERMS(TOKEN_TEXT)</code><strong style=\"font-size: 100%; color: var(--ic-brand-font-color-dark); font-family: inherit;\"><em><strong></strong></em></strong></li>\\n</ol>\\n<details style=\"margin-bottom: 2.5rem;\">\\n<summary style=\"display: inline-block; background: #394a58; border: 1px solid #8A8B99; padding: 0.5rem 0.75rem; cursor: pointer;\"><span style=\"color: #ffffff;\">Select for Part 3 </span></summary>\\n<ol style=\"list-style-type: decimal;\">\\n<li><code>If TOKEN_TEXT = YES then ANALYZE_SENTIMENT(TOKEN_TEXT)</code></li>\\n<li><code>If ANALYZE_SENTIMENT(TOKEN_TEXT) then CHECK_TERMS(TOKEN_TEXT)</code></li>\\n<li><code>If ANY(TOKEN in TOKEN_TEXT) = “URGENT” or “CLICK HERE” then ADJUSTED_SENTIMENT = SENTIMENT - 0.5</code></li>\\n</ol>\\n</details>\\n<h4>Part 4 - HAM OR PHISH?&nbsp;</h4>\\n<p><strong>Task: Sort the emails based on if they exhibit Flags 1, 2, or 3 (PHISH) or no flags (HAM).</strong></p>\\n<strong style=\"font-size: 100%; color: var(--ic-brand-font-color-dark); font-family: inherit;\"><em><strong>Order each of the steps (A-D) in the correct order to accomplish the task</strong></em></strong>\\n<ol style=\"list-style-type: upper-alpha;\">\\n<li><code>ELSE then HAM</code></li>\\n<li><code>If SUSPICIOUS ENT = YES then PHISH</code></li>\\n<li><code>If SUSPICIOUS LINK = YES then PHISH</code></li>\\n<li><code>If ADJUSTED_SENTIMENT &gt; .05 then PHISH</code></li>\\n</ol>\\n<details style=\"margin-bottom: 2.5rem;\">\\n<summary style=\"display: inline-block; background: #394a58; border: 1px solid #8A8B99; padding: 0.5rem 0.75rem; cursor: pointer;\"><span style=\"color: #ffffff;\">Select for Part 4 </span></summary>\\n<ol style=\"list-style-type: decimal;\">\\n<li><code>If SUSPICIOUS ENT = YES then PHISH</code></li>\\n<li><code>If SUSPICIOUS LINK = YES then PHISH</code></li>\\n<li><code>If ADJUSTED_SENTIMENT &gt; .05 then PHISH</code></li>\\n<li><code>ELSE then HAM</code></li>\\n</ol>\\n<p><strong><em>Based on our rules, the order of 1, 2, and 3 are interchangeable.&nbsp;</em></strong></p>\\n</details></li>\\n</ol>\\n<div id=\"fragment-9\" style=\"overflow: auto:;\">\\n<h3>Summary</h3>\\n<p>In this exercise, you went in-depth in your understanding of email filtering and how language patterns can be used as part of a multi-approach system to detect phishing emails and other suspicious activity. You had an opportunity to identify the correct order of steps for executing a simplified email classifier using natural language processing techniques like sentiment analysis and named entity recognition.&nbsp;</p>\\n<p>Throughout this task, you may have noticed that it can take quite a few lines of code to execute a very simple set of rules. This observation is structured to help you appreciate that while rules are an indispensable part of pattern recognition in threat detection, that machine learning techniques are necessary to handle the increasingly complex patterns that suggest suspicious activity.&nbsp;</p>\\n</div>\\n</div>\\n</div>'"
      ]
     },
     "execution_count": 24,
     "metadata": {},
     "output_type": "execute_result"
    }
   ],
   "source": [
    "contents[5]"
   ]
  },
  {
   "cell_type": "code",
   "execution_count": 33,
   "metadata": {},
   "outputs": [
    {
     "name": "stdout",
     "output_type": "stream",
     "text": [
      "<ul>\n",
      "<li><a href=\"#fragment-1\">Introduction</a></li>\n",
      "<li><a href=\"#fragment-2\">Email Filtering</a></li>\n",
      "<li><a href=\"#fragment-3\">Rule Based Algorithms</a></li>\n",
      "<li><a href=\"#fragment-4\">Machine Based Algorithms</a></li>\n",
      "<li><a href=\"#fragment-5\">Modern Email Filters</a></li>\n",
      "<li><a href=\"#fragment-6\">What is Pseudo-Code?</a></li>\n",
      "<li><a href=\"#fragment-7\">Email Classification Script</a></li>\n",
      "<li><a href=\"#fragment-8\">Procedure</a></li>\n",
      "<li><a href=\"#fragment-9\">Summary</a></li>\n",
      "</ul>\n"
     ]
    }
   ],
   "source": [
    "from bs4 import BeautifulSoup\n",
    "\n",
    "html_string = contents[5]\n",
    "\n",
    "soup = BeautifulSoup(html_string, 'html.parser')\n",
    "\n",
    "# Find the fragment with specific attributes\n",
    "fragments = soup.find_all('div', {'class': 'enhanceable_content tabs'})\n",
    "lists_ = soup.find_all('ul')\n",
    "# fragment = soup.find_all('div', {'id': 'fragment-1'})\n",
    "print(lists_[0])\n",
    "\n",
    "headers = soup.find_all('h3')\n",
    "text_blocks = soup.find_all('p')\n",
    "adj_blocks = [block for block in text_blocks \n",
    " if str(block) != '<p><em>Select the tabs to navigate through the content.</em></p>']"
   ]
  },
  {
   "cell_type": "code",
   "execution_count": 41,
   "metadata": {},
   "outputs": [
    {
     "name": "stdout",
     "output_type": "stream",
     "text": [
      "# 🔎 Lab: 2.4 HAM or PHISH? - NLP for Email Filtering \n",
      "\n",
      "## <h3>Introduction</h3>\n",
      "\n",
      "<p>Spam emails, which are unsolicited and often bulk messages sent to a large number of recipients, started becoming a problem in the late 1990s. These emails typically contained advertisements, scams, or other forms of unwanted content. Over time, spam became a widespread issue, leading to the development of spam filters and anti-spam measures.</p>\n",
      "\n",
      "## <h3>Email Filtering</h3>\n",
      "\n",
      "<p>Phishing attacks, on the other hand, began to emerge in the early 2000s. Phishing refers to a type of cyber attack where malicious actors impersonate trustworthy entities or organizations to deceive recipients into disclosing sensitive information, such as passwords, credit card details, or personal data. Phishing emails are designed to appear legitimate and often employ social engineering techniques to trick recipients into taking action that benefits the attackers.</p>\n",
      "\n",
      "## <h3>Rule-Based Algorithms</h3>\n",
      "\n",
      "<p>Phishing attacks became increasingly prevalent with the rise of online banking, e-commerce, and other online services that require users to provide sensitive information. Attackers realized that by impersonating trusted entities, they could gain access to valuable data or exploit users for financial gain.</p>\n",
      "\n",
      "## <h3>Machine Learning Algorithms</h3>\n",
      "\n",
      "<p>While spam and phishing are distinct concepts, they are often intertwined. Let’s compare the two:</p>\n",
      "\n",
      "## <h3>Modern Email Filters</h3>\n",
      "\n",
      "<p>In this exercise, you will use your knowledge of language patterns used by malicious actors and natural language processing techniques that were introduced in previous lessons to classify emails as HAM (legitimate emails) or PHISH (malicious emails). Creating labeled datasets such as these allows us to train models that can classify millions of emails, using the patterns extracted from just a small subset of known malicious emails.</p>\n",
      "\n",
      "## <h3>What is Pseudo-Code?</h3>\n",
      "\n",
      "<p>By the end of this lesson, you will be able to </p>\n",
      "\n",
      "## <h3>Email Classification Script</h3>\n",
      "\n",
      "<p>Email filtering is a process in which incoming and outgoing emails are analyzed and categorized based on predefined criteria or rules. The purpose of email filtering is to identify and handle emails based on their content, sender, recipient, or other attributes. Filtering can be performed by email servers, email clients, or dedicated email security systems.</p>\n",
      "\n",
      "## <h3>Procedure</h3>\n",
      "\n",
      "<p>In practice, email filtering systems often employ a combination of rule-based and machine learning techniques. Rule-based filters may be used as an initial line of defense to quickly identify and block obvious spam or phishing attempts based on known patterns. Machine learning models can then be employed to further analyze and classify emails based on more complex features and evolving patterns.</p>\n",
      "\n",
      "## <h3>Summary</h3>\n",
      "\n",
      "<p>In this lesson, we will discuss rule-based and machine learning techniques for email detection. Then, you will practice classifying emails as HAM or PHISH based on your knowledge of phishing email analysis techniques from the previous lesson. Through this exercise, you will learn all the necessary steps for building an email classifier.</p>\n",
      "\n",
      "\n"
     ]
    }
   ],
   "source": [
    "def convert_to_markdown(title, sections):\n",
    "    markdown = f\"# {title}\\n\\n\"\n",
    "    for header, text in sections:\n",
    "        markdown += f\"## {header}\\n\\n{text}\\n\\n\"\n",
    "    return markdown\n",
    "\n",
    "# Example usage\n",
    "page_title = \"My Markdown Page\"\n",
    "page_sections = [\n",
    "    (\"Section 1\", \"This is the text for Section 1.\"),\n",
    "    (\"Section 2\", \"This is the text for Section 2.\"),\n",
    "    (\"Section 3\", \"This is the text for Section 3.\"),\n",
    "]\n",
    "\n",
    "result = convert_to_markdown(titles[5], zipped)\n",
    "print(result)"
   ]
  },
  {
   "cell_type": "code",
   "execution_count": 34,
   "metadata": {},
   "outputs": [],
   "source": [
    "zipped = list(zip(headers, adj_blocks))"
   ]
  },
  {
   "cell_type": "code",
   "execution_count": 35,
   "metadata": {},
   "outputs": [
    {
     "data": {
      "text/plain": [
       "[(<h3>Introduction</h3>,\n",
       "  <p>Spam emails, which are unsolicited and often bulk messages sent to a large number of recipients, started becoming a problem in the late 1990s. These emails typically contained advertisements, scams, or other forms of unwanted content. Over time, spam became a widespread issue, leading to the development of spam filters and anti-spam measures.</p>),\n",
       " (<h3>Email Filtering</h3>,\n",
       "  <p>Phishing attacks, on the other hand, began to emerge in the early 2000s. Phishing refers to a type of cyber attack where malicious actors impersonate trustworthy entities or organizations to deceive recipients into disclosing sensitive information, such as passwords, credit card details, or personal data. Phishing emails are designed to appear legitimate and often employ social engineering techniques to trick recipients into taking action that benefits the attackers.</p>),\n",
       " (<h3>Rule-Based Algorithms</h3>,\n",
       "  <p>Phishing attacks became increasingly prevalent with the rise of online banking, e-commerce, and other online services that require users to provide sensitive information. Attackers realized that by impersonating trusted entities, they could gain access to valuable data or exploit users for financial gain.</p>),\n",
       " (<h3>Machine Learning Algorithms</h3>,\n",
       "  <p>While spam and phishing are distinct concepts, they are often intertwined. Let’s compare the two:</p>),\n",
       " (<h3>Modern Email Filters</h3>,\n",
       "  <p>In this exercise, you will use your knowledge of language patterns used by malicious actors and natural language processing techniques that were introduced in previous lessons to classify emails as HAM (legitimate emails) or PHISH (malicious emails). Creating labeled datasets such as these allows us to train models that can classify millions of emails, using the patterns extracted from just a small subset of known malicious emails.</p>),\n",
       " (<h3>What is Pseudo-Code?</h3>,\n",
       "  <p>By the end of this lesson, you will be able to </p>),\n",
       " (<h3>Email Classification Script</h3>,\n",
       "  <p>Email filtering is a process in which incoming and outgoing emails are analyzed and categorized based on predefined criteria or rules. The purpose of email filtering is to identify and handle emails based on their content, sender, recipient, or other attributes. Filtering can be performed by email servers, email clients, or dedicated email security systems.</p>),\n",
       " (<h3>Procedure</h3>,\n",
       "  <p>In practice, email filtering systems often employ a combination of rule-based and machine learning techniques. Rule-based filters may be used as an initial line of defense to quickly identify and block obvious spam or phishing attempts based on known patterns. Machine learning models can then be employed to further analyze and classify emails based on more complex features and evolving patterns.</p>),\n",
       " (<h3>Summary</h3>,\n",
       "  <p>In this lesson, we will discuss rule-based and machine learning techniques for email detection. Then, you will practice classifying emails as HAM or PHISH based on your knowledge of phishing email analysis techniques from the previous lesson. Through this exercise, you will learn all the necessary steps for building an email classifier.</p>)]"
      ]
     },
     "execution_count": 35,
     "metadata": {},
     "output_type": "execute_result"
    }
   ],
   "source": [
    "zipped"
   ]
  },
  {
   "cell_type": "code",
   "execution_count": null,
   "metadata": {},
   "outputs": [],
   "source": []
  },
  {
   "cell_type": "code",
   "execution_count": null,
   "metadata": {},
   "outputs": [],
   "source": []
  },
  {
   "cell_type": "markdown",
   "metadata": {},
   "source": [
    "#### Add a Page"
   ]
  },
  {
   "cell_type": "markdown",
   "metadata": {},
   "source": [
    "First, get the title."
   ]
  },
  {
   "cell_type": "code",
   "execution_count": null,
   "metadata": {},
   "outputs": [],
   "source": [
    "pattern = re.compile(\"(?s)<h1>.+?</h1>\")\n",
    "result = re.findall(\"(?s)<h1>.+?</h1>\", html_content)[0]\n",
    "title = result.replace(\"<h1>\", \"\").replace(\"</h1>\", \"\")"
   ]
  },
  {
   "cell_type": "code",
   "execution_count": null,
   "metadata": {},
   "outputs": [],
   "source": [
    "# <header class=\"fis-header\" style=\"visibility: hidden;\"><a class=\"fis-git-link\" href=\"https://github.com/learn-co-curriculum/dsc-mongodb-lab\" target=\"_blank\" rel=\"noopener\"><img id=\"repo-img\" title=\"Open GitHub Repo\" alt=\"GitHub Repo\" /></a><a class=\"fis-git-link\" href=\"https://github.com/learn-co-curriculum/dsc-mongodb-lab\" target=\"_blank\" rel=\"noopener\"><img id=\"issue-img\" title=\"Create New Issue\" alt=\"Create New Issue\" /></a></header>"
   ]
  },
  {
   "cell_type": "markdown",
   "metadata": {},
   "source": [
    "Then, set the attributes. See all the possible attributes here. "
   ]
  },
  {
   "cell_type": "code",
   "execution_count": null,
   "metadata": {},
   "outputs": [],
   "source": [
    "attributes = {\n",
    "    \"title\": title,\n",
    "    \"body\": html_content,\n",
    "    \"published\": True\n",
    "}\n",
    "\n",
    "page = course.create_page(attributes)\n",
    "\n",
    "if page:\n",
    "    print(\"Successfully created the page\")\n",
    "else:\n",
    "    print(\"Failed to create the page\")"
   ]
  },
  {
   "cell_type": "markdown",
   "metadata": {},
   "source": [
    "#### Add a Lab"
   ]
  },
  {
   "cell_type": "code",
   "execution_count": null,
   "metadata": {},
   "outputs": [],
   "source": [
    ">>> from markdown2 import Markdown\n",
    ">>> markdowner = Markdown()\n",
    ">>> markdowner.convert(\"*boo!*\")"
   ]
  },
  {
   "cell_type": "markdown",
   "metadata": {},
   "source": [
    "#### Get Header"
   ]
  },
  {
   "cell_type": "code",
   "execution_count": null,
   "metadata": {},
   "outputs": [],
   "source": [
    "header = re.compile(\"(?s)<h1>.+?</h1>\")\n",
    "result1 = re.findall(header, html_content)[0]\n",
    "title = result1.replace(\"<h1>\", \"\").replace(\"</h1>\", \"\")"
   ]
  },
  {
   "cell_type": "markdown",
   "metadata": {},
   "source": [
    "#### Get Introduction"
   ]
  },
  {
   "cell_type": "code",
   "execution_count": null,
   "metadata": {},
   "outputs": [],
   "source": [
    "objectives = re.compile(\"(?s)<h2>Introduction.+?<h2>\")\n",
    "result2 = re.findall(objectives, html_content)[0]"
   ]
  },
  {
   "cell_type": "markdown",
   "metadata": {},
   "source": [
    "#### Get Learning Objectives"
   ]
  },
  {
   "cell_type": "code",
   "execution_count": null,
   "metadata": {},
   "outputs": [],
   "source": [
    "objectives = re.compile(\"(?s)<h2>Learning Objectives.+?<h2>\")\n",
    "result3 = re.findall(objectives, html_content)[0]\n",
    "result3 = result3[:-5]\n",
    "print(result3)"
   ]
  },
  {
   "cell_type": "code",
   "execution_count": null,
   "metadata": {},
   "outputs": [],
   "source": [
    "lab = (result1+\"\\n\"+result2+\"\\n\"+result3)\n",
    "print(lab)"
   ]
  },
  {
   "cell_type": "code",
   "execution_count": null,
   "metadata": {},
   "outputs": [],
   "source": [
    "attributes = {\n",
    "    \"title\": title,\n",
    "    \"body\": lab,\n",
    "    \"published\": True\n",
    "}\n",
    "\n",
    "page = course.create_page(attributes)\n",
    "\n",
    "if page:\n",
    "    print(\"Successfully created the page\")\n",
    "else:\n",
    "    print(\"Failed to create the page\")"
   ]
  },
  {
   "cell_type": "code",
   "execution_count": null,
   "metadata": {},
   "outputs": [],
   "source": []
  },
  {
   "cell_type": "code",
   "execution_count": null,
   "metadata": {},
   "outputs": [],
   "source": []
  },
  {
   "cell_type": "code",
   "execution_count": null,
   "metadata": {},
   "outputs": [],
   "source": []
  },
  {
   "cell_type": "code",
   "execution_count": null,
   "metadata": {},
   "outputs": [],
   "source": [
    "from bs4 import BeautifulSoup\n",
    "from markdownify import markdownify\n",
    "\n",
    "def html_to_github_markdown(html_string):\n",
    "    # Parse the HTML using Beautiful Soup\n",
    "    soup = BeautifulSoup(html_string, 'html.parser')\n",
    "\n",
    "    # Find all fragments with specific attributes\n",
    "    fragments = soup.find_all('div', {'class': 'fragment'})\n",
    "\n",
    "    # Convert each fragment to Markdown\n",
    "    markdown_fragments = []\n",
    "    for fragment in fragments:\n",
    "        # Extract the heading and text content from the fragment\n",
    "        heading = fragment.find(['h1', 'h2', 'h3', 'h4', 'h5', 'h6'])\n",
    "        text_content = fragment.get_text()\n",
    "\n",
    "        # Convert the text content to Markdown\n",
    "        markdown_content = markdownify(text_content)\n",
    "\n",
    "        # Determine the heading level and construct the Markdown heading\n",
    "        if heading:\n",
    "            heading_level = int(heading.name[1])\n",
    "            markdown_heading = '#' * heading_level + ' ' + heading.get_text()\n",
    "            markdown_fragment = markdown_heading + '\\n\\n' + markdown_content\n",
    "        else:\n",
    "            markdown_fragment = markdown_content\n",
    "\n",
    "        # Append the Markdown fragment to the list\n",
    "        markdown_fragments.append(markdown_fragment)\n",
    "\n",
    "    # Join all the Markdown fragments together\n",
    "    markdown_string = '\\n\\n'.join(markdown_fragments)\n",
    "\n",
    "    return markdown_string\n",
    "\n",
    "# Example usage\n",
    "html_string = '''\n",
    "<div class=\"fragment\">\n",
    "    <h2>Fragment 1</h2>\n",
    "    <p>This is the content of fragment 1.</p>\n",
    "</div>\n",
    "\n",
    "<div class=\"fragment\">\n",
    "    <h3>Fragment 2</h3>\n",
    "    <p>This is the content of fragment 2.</p>\n",
    "</div>\n",
    "'''\n",
    "\n",
    "markdown_string = html_to_github_markdown(html_string)\n",
    "print(markdown_string)"
   ]
  },
  {
   "cell_type": "code",
   "execution_count": null,
   "metadata": {},
   "outputs": [],
   "source": [
    "from bs4 import BeautifulSoup\n",
    "from markdownify import markdownify\n",
    "\n",
    "def html_to_github_markdown(html_string):\n",
    "    # Parse the HTML using Beautiful Soup\n",
    "    soup = BeautifulSoup(html_string, 'html.parser')\n",
    "\n",
    "    # Find all div elements with id starting with \"fragment-\"\n",
    "    fragments = soup.select('div[id^=\"#fragment-\"]')\n",
    "\n",
    "    # Convert each fragment to Markdown\n",
    "    markdown_fragments = []\n",
    "    for fragment in fragments:\n",
    "        # Extract the heading and text content from the fragment\n",
    "        heading = fragment.find(['h1', 'h2', 'h3', 'h4', 'h5', 'h6'])\n",
    "        text_content = fragment.get_text()\n",
    "\n",
    "        # Convert the text content to Markdown\n",
    "        markdown_content = markdownify(text_content)\n",
    "\n",
    "        # Determine the heading level and construct the Markdown heading\n",
    "        if heading:\n",
    "            heading_level = int(heading.name[1])\n",
    "            markdown_heading = '#' * heading_level + ' ' + heading.get_text()\n",
    "            markdown_fragment = markdown_heading + '\\n\\n' + markdown_content\n",
    "        else:\n",
    "            markdown_fragment = markdown_content\n",
    "\n",
    "        # Append the Markdown fragment to the list\n",
    "        markdown_fragments.append(markdown_fragment)\n",
    "\n",
    "    # Join all the Markdown fragments together\n",
    "    markdown_string = '\\n\\n'.join(markdown_fragments)\n",
    "\n",
    "    return markdown_string\n",
    "\n",
    "# Example usage\n",
    "html_string = '''\n",
    "<div id=\"#fragment-1\">\n",
    "    <h2>Fragment 1</h2>\n",
    "    <p>This is the content of fragment 1.</p>\n",
    "</div>\n",
    "\n",
    "<div id=\"#fragment-2\">\n",
    "    <h3>Fragment 2</h3>\n",
    "    <p>This is the content of fragment 2.</p>\n",
    "</div>\n",
    "'''\n",
    "\n",
    "markdown_string = html_to_github_markdown(html_string)\n",
    "print(markdown_string)"
   ]
  },
  {
   "cell_type": "code",
   "execution_count": null,
   "metadata": {},
   "outputs": [],
   "source": [
    "markdown_strings = []\n",
    "\n",
    "for content in contents:\n",
    "    print(\"HTML\")\n",
    "    print(content)\n",
    "    print(\"Markdown\")\n",
    "    print(html_to_github_markdown(content))\n",
    "    print(\"\")"
   ]
  },
  {
   "cell_type": "code",
   "execution_count": null,
   "metadata": {},
   "outputs": [],
   "source": [
    "markdown_strings"
   ]
  },
  {
   "cell_type": "code",
   "execution_count": null,
   "metadata": {},
   "outputs": [],
   "source": []
  }
 ],
 "metadata": {
  "kernelspec": {
   "display_name": "Python 3.11.1 (spacy)",
   "language": "python",
   "name": "venv_spacy"
  },
  "language_info": {
   "codemirror_mode": {
    "name": "ipython",
    "version": 3
   },
   "file_extension": ".py",
   "mimetype": "text/x-python",
   "name": "python",
   "nbconvert_exporter": "python",
   "pygments_lexer": "ipython3",
   "version": "3.11.1"
  }
 },
 "nbformat": 4,
 "nbformat_minor": 4
}
